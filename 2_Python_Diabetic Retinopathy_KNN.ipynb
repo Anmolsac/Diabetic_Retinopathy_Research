{
 "cells": [
  {
   "cell_type": "code",
   "execution_count": 1,
   "id": "129591e9",
   "metadata": {},
   "outputs": [
    {
     "name": "stdout",
     "output_type": "stream",
     "text": [
      "Libraries are loaded\n"
     ]
    }
   ],
   "source": [
    "# Necessary utility modules and libraries\n",
    "import os\n",
    "import numpy as np\n",
    "from PIL import Image\n",
    "from tkinter import Tk, filedialog\n",
    "\n",
    "import pandas as pd\n",
    "import matplotlib.pyplot as plt\n",
    "\n",
    "import tkinter as tk\n",
    "from tkinter import filedialog\n",
    "import numpy as np\n",
    "from sklearn.preprocessing import MinMaxScaler\n",
    "import time\n",
    "from sklearn.neighbors import KNeighborsClassifier\n",
    "from sklearn.metrics import confusion_matrix\n",
    "from sklearn.metrics import classification_report\n",
    "from sklearn.model_selection import train_test_split\n",
    "\n",
    "\n",
    "import os\n",
    "import shutil\n",
    "import pathlib\n",
    "import random\n",
    "import datetime\n",
    "import cv2\n",
    "\n",
    "import matplotlib.image as mpimg\n",
    "from scipy.signal import gaussian, convolve2d\n",
    "import seaborn as sns\n",
    "\n",
    "\n",
    "# Libraries for building the model\n",
    "import tensorflow as tf\n",
    "import tensorflow_hub as hub\n",
    "from tensorflow import keras\n",
    "from tensorflow.keras.preprocessing.image import ImageDataGenerator\n",
    "from tensorflow.keras.layers import Input, Dense, Conv2D, Flatten, MaxPool2D, Dropout, Activation, GlobalAveragePooling2D, BatchNormalization, GlobalMaxPooling2D\n",
    "from tensorflow.keras.applications import DenseNet121, ResNet50, InceptionV3, Xception, VGG16\n",
    "from tensorflow.keras.models import Sequential\n",
    "from tensorflow.keras import backend\n",
    "from tensorflow.keras.regularizers import l2, l1\n",
    "from sklearn.metrics import classification_report, precision_recall_fscore_support, accuracy_score, confusion_matrix\n",
    "from sklearn.model_selection import GridSearchCV\n",
    "\n",
    "print('Libraries are loaded')"
   ]
  },
  {
   "cell_type": "code",
   "execution_count": null,
   "id": "03492889",
   "metadata": {},
   "outputs": [
    {
     "name": "stderr",
     "output_type": "stream",
     "text": [
      "2023-06-28 12:09:47.084 python[25233:8558548] +[CATransaction synchronize] called within transaction\n",
      "2023-06-28 12:09:47.168 python[25233:8558548] +[CATransaction synchronize] called within transaction\n",
      "2023-06-28 12:09:50.324 python[25233:8558548] +[CATransaction synchronize] called within transaction\n",
      "2023-06-28 12:09:54.068 python[25233:8558548] +[CATransaction synchronize] called within transaction\n",
      "2023-06-28 12:09:54.176 python[25233:8558548] +[CATransaction synchronize] called within transaction\n",
      "2023-06-28 12:09:54.392 python[25233:8558548] +[CATransaction synchronize] called within transaction\n",
      "2023-06-28 12:09:54.495 python[25233:8558548] +[CATransaction synchronize] called within transaction\n",
      "2023-06-28 12:09:54.601 python[25233:8558548] +[CATransaction synchronize] called within transaction\n",
      "2023-06-28 12:10:14.870 python[25233:8558548] +[CATransaction synchronize] called within transaction\n"
     ]
    }
   ],
   "source": [
    "# Loading N Images from the selected path\n",
    "\n",
    "def fetch_images_from_path(path, num_images):\n",
    "    images = []\n",
    "    count = 0\n",
    "\n",
    "    for filename in os.listdir(path):\n",
    "        if count >= num_images:\n",
    "            break\n",
    "\n",
    "        image_path = os.path.join(path, filename)\n",
    "        if os.path.isfile(image_path):\n",
    "            image = np.array(Image.open(image_path).resize((1024, 1024)))\n",
    "            images.append(image)\n",
    "            count += 1\n",
    "\n",
    "    images = np.array(images)\n",
    "\n",
    "    return images\n",
    "\n",
    "# Prompt the user to select a directory using a file dialog\n",
    "Tk().withdraw()  # Hide the Tkinter root window\n",
    "directory = filedialog.askdirectory(title='Select the directory where the images are located')\n",
    "\n",
    "# Ensure a directory was selected\n",
    "if directory:\n",
    "    num_images = 250 # Set the desired number of images\n",
    "    selected_images = fetch_images_from_path(directory, num_images)\n",
    "\n",
    "    # Print the shape of selected images array\n",
    "    print(selected_images.shape)\n",
    "else:\n",
    "    print(\"No directory selected.\")\n"
   ]
  },
  {
   "cell_type": "code",
   "execution_count": 22,
   "id": "5e914031",
   "metadata": {},
   "outputs": [
    {
     "name": "stderr",
     "output_type": "stream",
     "text": [
      "2023-06-28 00:57:24.301 python[25233:8558548] +[CATransaction synchronize] called within transaction\n",
      "2023-06-28 00:57:24.318 python[25233:8558548] +[CATransaction synchronize] called within transaction\n",
      "2023-06-28 00:57:27.196 python[25233:8558548] +[CATransaction synchronize] called within transaction\n"
     ]
    },
    {
     "name": "stdout",
     "output_type": "stream",
     "text": [
      "Labels file is loaded\n"
     ]
    }
   ],
   "source": [
    "# Load the labels CSV file (Only first N records are selected)\n",
    "\n",
    "Labels_Data = pd.read_csv(filedialog.askopenfilename(), header=0)\n",
    "Labels_Data = Labels_Data.head(250)\n",
    "\n",
    "print('Labels file is loaded')"
   ]
  },
  {
   "cell_type": "code",
   "execution_count": 23,
   "id": "f8611cf8",
   "metadata": {},
   "outputs": [
    {
     "data": {
      "text/html": [
       "<div>\n",
       "<style scoped>\n",
       "    .dataframe tbody tr th:only-of-type {\n",
       "        vertical-align: middle;\n",
       "    }\n",
       "\n",
       "    .dataframe tbody tr th {\n",
       "        vertical-align: top;\n",
       "    }\n",
       "\n",
       "    .dataframe thead th {\n",
       "        text-align: right;\n",
       "    }\n",
       "</style>\n",
       "<table border=\"1\" class=\"dataframe\">\n",
       "  <thead>\n",
       "    <tr style=\"text-align: right;\">\n",
       "      <th></th>\n",
       "      <th>image</th>\n",
       "      <th>level</th>\n",
       "    </tr>\n",
       "  </thead>\n",
       "  <tbody>\n",
       "    <tr>\n",
       "      <th>0</th>\n",
       "      <td>10_left</td>\n",
       "      <td>No Diabetic Retinopathy</td>\n",
       "    </tr>\n",
       "    <tr>\n",
       "      <th>1</th>\n",
       "      <td>10_right</td>\n",
       "      <td>No Diabetic Retinopathy</td>\n",
       "    </tr>\n",
       "    <tr>\n",
       "      <th>2</th>\n",
       "      <td>13_left</td>\n",
       "      <td>No Diabetic Retinopathy</td>\n",
       "    </tr>\n",
       "    <tr>\n",
       "      <th>3</th>\n",
       "      <td>13_right</td>\n",
       "      <td>No Diabetic Retinopathy</td>\n",
       "    </tr>\n",
       "    <tr>\n",
       "      <th>4</th>\n",
       "      <td>15_left</td>\n",
       "      <td>Early Stage</td>\n",
       "    </tr>\n",
       "  </tbody>\n",
       "</table>\n",
       "</div>"
      ],
      "text/plain": [
       "      image                    level\n",
       "0   10_left  No Diabetic Retinopathy\n",
       "1  10_right  No Diabetic Retinopathy\n",
       "2   13_left  No Diabetic Retinopathy\n",
       "3  13_right  No Diabetic Retinopathy\n",
       "4   15_left              Early Stage"
      ]
     },
     "execution_count": 23,
     "metadata": {},
     "output_type": "execute_result"
    }
   ],
   "source": [
    "# Define the mapping dictionary\n",
    "label_mapping = {\n",
    "    0: \"No Diabetic Retinopathy\",\n",
    "    1: \"Early Stage\",\n",
    "    2: \"Intermediate Stage\",\n",
    "    3: \"Severe Retinopathy\",\n",
    "    4: \"Progressive Retinopathy\"\n",
    "}\n",
    "\n",
    "# Replace the values in the column with their corresponding labels\n",
    "Labels_Data['level'] = Labels_Data['level'].map(label_mapping)\n",
    "\n",
    "Labels_Data.head()"
   ]
  },
  {
   "cell_type": "code",
   "execution_count": 24,
   "id": "3ed4e747",
   "metadata": {},
   "outputs": [
    {
     "data": {
      "image/png": "[encoded data removed]",
      "text/plain": [
       "<Figure size 800x600 with 1 Axes>"
      ]
     },
     "metadata": {},
     "output_type": "display_data"
    },
    {
     "data": {
      "image/png": "[encoded data removed]",
      "text/plain": [
       "<Figure size 800x600 with 1 Axes>"
      ]
     },
     "metadata": {},
     "output_type": "display_data"
    }
   ],
   "source": [
    "#EDA - Labels distribution\n",
    "\n",
    "# Count the instances for each class\n",
    "class_counts = Labels_Data['level'].value_counts()\n",
    "\n",
    "# Create a bar plot\n",
    "plt.figure(figsize=(8, 6))\n",
    "class_counts.plot(kind='bar')\n",
    "plt.xlabel('Class')\n",
    "plt.ylabel('Count')\n",
    "plt.title('Class Distribution')\n",
    "plt.xticks(rotation=0)\n",
    "plt.show()\n",
    "\n",
    "# Create a pie chart\n",
    "plt.figure(figsize=(8, 6))\n",
    "class_counts.plot(kind='pie', autopct='%1.1f%%')\n",
    "plt.title('Class Distribution')\n",
    "plt.ylabel('')\n",
    "plt.show()\n"
   ]
  },
  {
   "cell_type": "code",
   "execution_count": 25,
   "id": "2ee969c3",
   "metadata": {},
   "outputs": [
    {
     "name": "stdout",
     "output_type": "stream",
     "text": [
      "This step to create Arrays is completed\n"
     ]
    }
   ],
   "source": [
    "# Convert the list of images to a numpy array\n",
    "X = np.array(selected_images)\n",
    "\n",
    "# Extract the labels\n",
    "y = Labels_Data['level'].values\n",
    "\n",
    "print('This step to create Arrays is completed')"
   ]
  },
  {
   "cell_type": "code",
   "execution_count": 26,
   "id": "3e954eac",
   "metadata": {},
   "outputs": [],
   "source": [
    "del selected_images"
   ]
  },
  {
   "cell_type": "code",
   "execution_count": 27,
   "id": "709a0c25",
   "metadata": {},
   "outputs": [],
   "source": [
    "# Split the dataset into training and testing sets\n",
    "X_train, X_test, y_train, y_test = train_test_split(X, y, test_size=0.2, random_state=3)"
   ]
  },
  {
   "cell_type": "code",
   "execution_count": 28,
   "id": "950a07d2",
   "metadata": {},
   "outputs": [],
   "source": [
    "del X"
   ]
  },
  {
   "cell_type": "code",
   "execution_count": 29,
   "id": "57f47b9a",
   "metadata": {},
   "outputs": [],
   "source": [
    "# Flatten the image data\n",
    "X_train = X_train.reshape(X_train.shape[0], -1)\n",
    "X_test = X_test.reshape(X_test.shape[0], -1)\n",
    "\n",
    "# Normalize the features\n",
    "X_train = X_train / 255.0\n",
    "X_test = X_test / 255.0"
   ]
  },
  {
   "cell_type": "code",
   "execution_count": 30,
   "id": "b201918a",
   "metadata": {},
   "outputs": [
    {
     "name": "stdout",
     "output_type": "stream",
     "text": [
      "(200, 3145728)\n",
      "(50, 3145728)\n"
     ]
    }
   ],
   "source": [
    "print(X_train.shape)\n",
    "print(X_test.shape)"
   ]
  },
  {
   "cell_type": "code",
   "execution_count": 32,
   "id": "04b27254",
   "metadata": {},
   "outputs": [
    {
     "name": "stderr",
     "output_type": "stream",
     "text": [
      "/Users/sachin/anaconda3/lib/python3.10/site-packages/sklearn/model_selection/_split.py:700: UserWarning: The least populated class in y has only 3 members, which is less than n_splits=5.\n",
      "  warnings.warn(\n"
     ]
    },
    {
     "name": "stdout",
     "output_type": "stream",
     "text": [
      "Optimized Hyperparameters:\n",
      "n_neighbors: 3\n",
      "weights: uniform\n",
      "Accuracy: 0.775\n"
     ]
    },
    {
     "data": {
      "image/png": "[encoded data removed]",
      "text/plain": [
       "<Figure size 1000x500 with 1 Axes>"
      ]
     },
     "metadata": {},
     "output_type": "display_data"
    }
   ],
   "source": [
    "# Define the parameter grid for tuning\n",
    "param_grid = {\n",
    "    'n_neighbors': [3, 5, 7, 10, 15],\n",
    "    'weights': ['uniform', 'distance']\n",
    "}\n",
    "\n",
    "# Create the KNN model\n",
    "knn = KNeighborsClassifier()\n",
    "\n",
    "# Perform grid search cross-validation\n",
    "grid_search = GridSearchCV(knn, param_grid, cv=5)\n",
    "grid_search.fit(X_train, y_train)\n",
    "\n",
    "# Get the results\n",
    "results = grid_search.cv_results_\n",
    "neighbors = results['param_n_neighbors']\n",
    "mean_scores = results['mean_test_score']\n",
    "\n",
    "# Print the optimized hyperparameters and accuracy\n",
    "best_params = grid_search.best_params_\n",
    "best_accuracy = grid_search.best_score_\n",
    "print(\"Optimized Hyperparameters:\")\n",
    "for param, value in best_params.items():\n",
    "    print(f\"{param}: {value}\")\n",
    "print(\"Accuracy:\", best_accuracy)\n",
    "\n",
    "# Plot accuracy vs. number of neighbors\n",
    "plt.figure(figsize=(10, 5))\n",
    "valid_scores = mean_scores[~np.isnan(mean_scores)]\n",
    "valid_neighbors = neighbors[~np.isnan(mean_scores)]\n",
    "plt.plot(valid_neighbors, valid_scores, 'go-')\n",
    "plt.xlabel('Number of Neighbors')\n",
    "plt.ylabel('Mean Test Score')\n",
    "plt.title('Accuracy vs. Number of Neighbors')\n",
    "plt.grid(True)\n",
    "plt.show()\n"
   ]
  },
  {
   "cell_type": "code",
   "execution_count": 13,
   "id": "90deb41a",
   "metadata": {},
   "outputs": [
    {
     "name": "stdout",
     "output_type": "stream",
     "text": [
      "Accuracy: 0.76\n"
     ]
    }
   ],
   "source": [
    "from sklearn.neighbors import KNeighborsClassifier\n",
    "\n",
    "# Create the KNN model with the best hyperparameters\n",
    "best_n_neighbors = 5\n",
    "best_weights = 'uniform'\n",
    "knn_model = KNeighborsClassifier(n_neighbors=best_n_neighbors, weights=best_weights)\n",
    "\n",
    "# Train the KNN model on the training data\n",
    "knn_model.fit(X_train, y_train)\n",
    "\n",
    "# Make predictions on the test data\n",
    "y_pred = knn_model.predict(X_test)\n",
    "\n",
    "# Calculate the accuracy of the model\n",
    "accuracy = accuracy_score(y_test, y_pred)\n",
    "\n",
    "# Print the accuracy\n",
    "print(\"Accuracy:\", accuracy)\n"
   ]
  },
  {
   "cell_type": "code",
   "execution_count": 14,
   "id": "a7351ea8",
   "metadata": {},
   "outputs": [
    {
     "name": "stdout",
     "output_type": "stream",
     "text": [
      "Prediction Results vs Test Labels:\n",
      "Predicted: No Diabetic Retinopathy, True Label: No Diabetic Retinopathy\n",
      "Predicted: No Diabetic Retinopathy, True Label: No Diabetic Retinopathy\n",
      "Predicted: No Diabetic Retinopathy, True Label: No Diabetic Retinopathy\n",
      "Predicted: No Diabetic Retinopathy, True Label: No Diabetic Retinopathy\n",
      "Predicted: No Diabetic Retinopathy, True Label: No Diabetic Retinopathy\n",
      "Predicted: No Diabetic Retinopathy, True Label: No Diabetic Retinopathy\n",
      "\u001b[91mPredicted: No Diabetic Retinopathy, True Label: Progressive Retinopathy <-- Mismatch\u001b[0m\n",
      "\u001b[91mPredicted: No Diabetic Retinopathy, True Label: Intermediate Stage <-- Mismatch\u001b[0m\n",
      "Predicted: No Diabetic Retinopathy, True Label: No Diabetic Retinopathy\n",
      "Predicted: No Diabetic Retinopathy, True Label: No Diabetic Retinopathy\n",
      "Predicted: No Diabetic Retinopathy, True Label: No Diabetic Retinopathy\n",
      "Predicted: No Diabetic Retinopathy, True Label: No Diabetic Retinopathy\n",
      "Predicted: No Diabetic Retinopathy, True Label: No Diabetic Retinopathy\n",
      "Predicted: No Diabetic Retinopathy, True Label: No Diabetic Retinopathy\n",
      "Predicted: No Diabetic Retinopathy, True Label: No Diabetic Retinopathy\n",
      "\u001b[91mPredicted: No Diabetic Retinopathy, True Label: Intermediate Stage <-- Mismatch\u001b[0m\n",
      "\u001b[91mPredicted: No Diabetic Retinopathy, True Label: Intermediate Stage <-- Mismatch\u001b[0m\n",
      "Predicted: No Diabetic Retinopathy, True Label: No Diabetic Retinopathy\n",
      "Predicted: No Diabetic Retinopathy, True Label: No Diabetic Retinopathy\n",
      "Predicted: No Diabetic Retinopathy, True Label: No Diabetic Retinopathy\n",
      "Predicted: No Diabetic Retinopathy, True Label: No Diabetic Retinopathy\n",
      "Predicted: No Diabetic Retinopathy, True Label: No Diabetic Retinopathy\n",
      "\u001b[91mPredicted: No Diabetic Retinopathy, True Label: Intermediate Stage <-- Mismatch\u001b[0m\n",
      "Predicted: No Diabetic Retinopathy, True Label: No Diabetic Retinopathy\n",
      "Predicted: No Diabetic Retinopathy, True Label: No Diabetic Retinopathy\n",
      "Predicted: No Diabetic Retinopathy, True Label: No Diabetic Retinopathy\n",
      "Predicted: No Diabetic Retinopathy, True Label: No Diabetic Retinopathy\n",
      "Predicted: No Diabetic Retinopathy, True Label: No Diabetic Retinopathy\n",
      "Predicted: No Diabetic Retinopathy, True Label: No Diabetic Retinopathy\n",
      "Predicted: No Diabetic Retinopathy, True Label: No Diabetic Retinopathy\n",
      "Predicted: No Diabetic Retinopathy, True Label: No Diabetic Retinopathy\n",
      "\u001b[91mPredicted: Early Stage, True Label: Severe Retinopathy <-- Mismatch\u001b[0m\n",
      "Predicted: No Diabetic Retinopathy, True Label: No Diabetic Retinopathy\n",
      "Predicted: No Diabetic Retinopathy, True Label: No Diabetic Retinopathy\n",
      "Predicted: No Diabetic Retinopathy, True Label: No Diabetic Retinopathy\n",
      "\u001b[91mPredicted: No Diabetic Retinopathy, True Label: Intermediate Stage <-- Mismatch\u001b[0m\n",
      "Predicted: No Diabetic Retinopathy, True Label: No Diabetic Retinopathy\n",
      "Predicted: No Diabetic Retinopathy, True Label: No Diabetic Retinopathy\n",
      "Predicted: No Diabetic Retinopathy, True Label: No Diabetic Retinopathy\n",
      "Predicted: No Diabetic Retinopathy, True Label: No Diabetic Retinopathy\n",
      "Predicted: No Diabetic Retinopathy, True Label: No Diabetic Retinopathy\n",
      "Predicted: No Diabetic Retinopathy, True Label: No Diabetic Retinopathy\n",
      "\u001b[91mPredicted: No Diabetic Retinopathy, True Label: Early Stage <-- Mismatch\u001b[0m\n",
      "Predicted: No Diabetic Retinopathy, True Label: No Diabetic Retinopathy\n",
      "\u001b[91mPredicted: No Diabetic Retinopathy, True Label: Intermediate Stage <-- Mismatch\u001b[0m\n",
      "\u001b[91mPredicted: No Diabetic Retinopathy, True Label: Intermediate Stage <-- Mismatch\u001b[0m\n",
      "Predicted: No Diabetic Retinopathy, True Label: No Diabetic Retinopathy\n",
      "\u001b[91mPredicted: Intermediate Stage, True Label: No Diabetic Retinopathy <-- Mismatch\u001b[0m\n",
      "\u001b[91mPredicted: No Diabetic Retinopathy, True Label: Intermediate Stage <-- Mismatch\u001b[0m\n",
      "Predicted: No Diabetic Retinopathy, True Label: No Diabetic Retinopathy\n"
     ]
    }
   ],
   "source": [
    "# 1) Print Prediction Results vs Test Labels\n",
    "print(\"Prediction Results vs Test Labels:\")\n",
    "for pred, true_label in zip(y_pred, y_test):\n",
    "    if pred != true_label:\n",
    "        print(f\"\\033[91mPredicted: {pred}, True Label: {true_label} <-- Mismatch\\033[0m\")\n",
    "    else:\n",
    "        print(f\"Predicted: {pred}, True Label: {true_label}\")\n"
   ]
  },
  {
   "cell_type": "code",
   "execution_count": 15,
   "id": "7d94f363",
   "metadata": {},
   "outputs": [
    {
     "name": "stdout",
     "output_type": "stream",
     "text": [
      "Classification Report:\n",
      "                         precision    recall  f1-score   support\n",
      "\n",
      "            Early Stage       0.00      0.00      0.00         1\n",
      "     Intermediate Stage       0.00      0.00      0.00         8\n",
      "No Diabetic Retinopathy       0.79      0.97      0.87        39\n",
      "Progressive Retinopathy       0.00      0.00      0.00         1\n",
      "     Severe Retinopathy       0.00      0.00      0.00         1\n",
      "\n",
      "               accuracy                           0.76        50\n",
      "              macro avg       0.16      0.19      0.17        50\n",
      "           weighted avg       0.62      0.76      0.68        50\n",
      "\n"
     ]
    },
    {
     "name": "stderr",
     "output_type": "stream",
     "text": [
      "/Users/sachin/anaconda3/lib/python3.10/site-packages/sklearn/metrics/_classification.py:1344: UndefinedMetricWarning: Precision and F-score are ill-defined and being set to 0.0 in labels with no predicted samples. Use `zero_division` parameter to control this behavior.\n",
      "  _warn_prf(average, modifier, msg_start, len(result))\n",
      "/Users/sachin/anaconda3/lib/python3.10/site-packages/sklearn/metrics/_classification.py:1344: UndefinedMetricWarning: Precision and F-score are ill-defined and being set to 0.0 in labels with no predicted samples. Use `zero_division` parameter to control this behavior.\n",
      "  _warn_prf(average, modifier, msg_start, len(result))\n",
      "/Users/sachin/anaconda3/lib/python3.10/site-packages/sklearn/metrics/_classification.py:1344: UndefinedMetricWarning: Precision and F-score are ill-defined and being set to 0.0 in labels with no predicted samples. Use `zero_division` parameter to control this behavior.\n",
      "  _warn_prf(average, modifier, msg_start, len(result))\n"
     ]
    }
   ],
   "source": [
    "# Compute the classification report\n",
    "report = classification_report(y_test, y_pred)\n",
    "\n",
    "# Print the classification report\n",
    "print(\"Classification Report:\")\n",
    "print(report)"
   ]
  },
  {
   "cell_type": "code",
   "execution_count": 16,
   "id": "449dfc7c",
   "metadata": {},
   "outputs": [
    {
     "name": "stdout",
     "output_type": "stream",
     "text": [
      "Confusion Matrix:\n",
      "                         Early Stage  Intermediate Stage  No Diabetic Retinopathy  Progressive Retinopathy  Severe Retinopathy\n",
      "Early Stage                        0                   0                        1                        0                   0\n",
      "Intermediate Stage                 0                   0                        8                        0                   0\n",
      "No Diabetic Retinopathy            0                   1                       38                        0                   0\n",
      "Progressive Retinopathy            0                   0                        1                        0                   0\n",
      "Severe Retinopathy                 1                   0                        0                        0                   0\n"
     ]
    }
   ],
   "source": [
    "# Compute the confusion matrix\n",
    "cm = confusion_matrix(y_test, y_pred)\n",
    "\n",
    "# Get the unique labels from y_test and D_pred\n",
    "labels = sorted(set(y_test).union(set(y_pred)))\n",
    "\n",
    "# Create a DataFrame for the confusion matrix\n",
    "df_cm = pd.DataFrame(cm, index=labels, columns=labels)\n",
    "\n",
    "# Print the confusion matrix in a table format\n",
    "print(\"Confusion Matrix:\")\n",
    "print(df_cm.to_string())"
   ]
  }
 ],
 "metadata": {
  "kernelspec": {
   "display_name": "Python 3 (ipykernel)",
   "language": "python",
   "name": "python3"
  },
  "language_info": {
   "codemirror_mode": {
    "name": "ipython",
    "version": 3
   },
   "file_extension": ".py",
   "mimetype": "text/x-python",
   "name": "python",
   "nbconvert_exporter": "python",
   "pygments_lexer": "ipython3",
   "version": "3.10.9"
  }
 },
 "nbformat": 4,
 "nbformat_minor": 5
}
