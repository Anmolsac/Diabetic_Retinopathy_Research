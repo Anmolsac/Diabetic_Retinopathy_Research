{
 "cells": [
  {
   "cell_type": "code",
   "execution_count": 1,
   "id": "ce837903",
   "metadata": {},
   "outputs": [
    {
     "name": "stdout",
     "output_type": "stream",
     "text": [
      "Libraries are loaded\n"
     ]
    }
   ],
   "source": [
    "import pandas as pd\n",
    "import tkinter as tk\n",
    "from tkinter import filedialog\n",
    "import numpy as np\n",
    "from sklearn.preprocessing import MinMaxScaler\n",
    "import time\n",
    "from sklearn.neighbors import KNeighborsClassifier\n",
    "from sklearn.metrics import confusion_matrix\n",
    "from sklearn.metrics import classification_report\n",
    "from sklearn.model_selection import train_test_split\n",
    "\n",
    "# Necessary utility modules and libraries\n",
    "import os\n",
    "import shutil\n",
    "import pathlib\n",
    "import random\n",
    "import datetime\n",
    "import cv2\n",
    "\n",
    "\n",
    "# Plotting libraries \n",
    "import matplotlib.pyplot as plt\n",
    "import matplotlib.image as mpimg\n",
    "from scipy.signal import gaussian, convolve2d\n",
    "import seaborn as sns\n",
    "\n",
    "\n",
    "\n",
    "# Libraries for building the model\n",
    "import tensorflow as tf\n",
    "import tensorflow_hub as hub\n",
    "from tensorflow import keras\n",
    "from tensorflow.keras.preprocessing.image import ImageDataGenerator\n",
    "from tensorflow.keras.layers import Input, Dense, Conv2D, Flatten, MaxPool2D, Dropout, Activation, GlobalAveragePooling2D, BatchNormalization, GlobalMaxPooling2D\n",
    "from tensorflow.keras.applications import DenseNet121, ResNet50, InceptionV3, Xception, VGG16\n",
    "from tensorflow.keras.models import Sequential\n",
    "from tensorflow.keras import backend\n",
    "from tensorflow.keras.regularizers import l2, l1\n",
    "from sklearn.metrics import classification_report, precision_recall_fscore_support, accuracy_score, confusion_matrix\n",
    "\n",
    "from PIL import Image\n",
    "from tkinter import Tk, filedialog\n",
    "\n",
    "print('Libraries are loaded')"
   ]
  },
  {
   "cell_type": "code",
   "execution_count": 2,
   "id": "51e744b6",
   "metadata": {},
   "outputs": [
    {
     "name": "stderr",
     "output_type": "stream",
     "text": [
      "2023-06-28 12:36:34.588 python[28971:8751442] +[CATransaction synchronize] called within transaction\n"
     ]
    },
    {
     "name": "stdout",
     "output_type": "stream",
     "text": [
      "(500, 1024, 1024, 3)\n"
     ]
    }
   ],
   "source": [
    "# Loading N Images from the selected path\n",
    "\n",
    "def fetch_images_from_path(path, num_images):\n",
    "    images = []\n",
    "    count = 0\n",
    "\n",
    "    for filename in os.listdir(path):\n",
    "        if count >= num_images:\n",
    "            break\n",
    "\n",
    "        image_path = os.path.join(path, filename)\n",
    "        if os.path.isfile(image_path):\n",
    "            image = np.array(Image.open(image_path).resize((1024, 1024)))\n",
    "            images.append(image)\n",
    "            count += 1\n",
    "\n",
    "    images = np.array(images)\n",
    "\n",
    "    return images\n",
    "\n",
    "# Prompt the user to select a directory using a file dialog\n",
    "Tk().withdraw()  # Hide the Tkinter root window\n",
    "directory = filedialog.askdirectory(title='Select the directory where the images are located')\n",
    "\n",
    "# Ensure a directory was selected\n",
    "if directory:\n",
    "    num_images = 500 # Set the desired number of images\n",
    "    selected_images = fetch_images_from_path(directory, num_images)\n",
    "\n",
    "    # Print the shape of selected images array\n",
    "    print(selected_images.shape)\n",
    "else:\n",
    "    print(\"No directory selected.\")\n"
   ]
  },
  {
   "cell_type": "code",
   "execution_count": 3,
   "id": "62f1a177",
   "metadata": {},
   "outputs": [
    {
     "name": "stderr",
     "output_type": "stream",
     "text": [
      "2023-06-28 12:39:28.683 python[28971:8751442] +[CATransaction synchronize] called within transaction\n",
      "2023-06-28 12:39:28.756 python[28971:8751442] +[CATransaction synchronize] called within transaction\n",
      "2023-06-28 12:39:31.457 python[28971:8751442] +[CATransaction synchronize] called within transaction\n"
     ]
    },
    {
     "name": "stdout",
     "output_type": "stream",
     "text": [
      "Labels file is loaded\n"
     ]
    }
   ],
   "source": [
    "# Load the labels CSV file (Only first N records are selected)\n",
    "\n",
    "Labels_Data = pd.read_csv(filedialog.askopenfilename(), header=0)\n",
    "Labels_Data = Labels_Data.head(500)\n",
    "\n",
    "print('Labels file is loaded')"
   ]
  },
  {
   "cell_type": "code",
   "execution_count": 4,
   "id": "137de3ba",
   "metadata": {},
   "outputs": [
    {
     "data": {
      "text/plain": [
       "(15, 2)"
      ]
     },
     "execution_count": 4,
     "metadata": {},
     "output_type": "execute_result"
    }
   ],
   "source": [
    "Labels_Data.shape"
   ]
  },
  {
   "cell_type": "code",
   "execution_count": 4,
   "id": "6c21e56f",
   "metadata": {},
   "outputs": [
    {
     "name": "stdout",
     "output_type": "stream",
     "text": [
      "This step to create Arrays is completed\n"
     ]
    }
   ],
   "source": [
    "# Convert the list of images to a numpy array\n",
    "X = np.array(selected_images)\n",
    "\n",
    "# Extract the labels\n",
    "y = Labels_Data['level'].values\n",
    "\n",
    "print('This step to create Arrays is completed')"
   ]
  },
  {
   "cell_type": "code",
   "execution_count": 5,
   "id": "ddab6cc2",
   "metadata": {},
   "outputs": [],
   "source": [
    "# Delete unwanted variables\n",
    "del selected_images"
   ]
  },
  {
   "cell_type": "code",
   "execution_count": 6,
   "id": "a5620146",
   "metadata": {},
   "outputs": [],
   "source": [
    "# Split the dataset into training and testing sets\n",
    "X_train, X_test, y_train, y_test = train_test_split(X, y, test_size=0.2, random_state=3)"
   ]
  },
  {
   "cell_type": "code",
   "execution_count": 7,
   "id": "a2c1e958",
   "metadata": {},
   "outputs": [],
   "source": [
    "# Delete unwanted variables\n",
    "del X"
   ]
  },
  {
   "cell_type": "code",
   "execution_count": 8,
   "id": "a897fc9a",
   "metadata": {},
   "outputs": [],
   "source": [
    "# Flatten the image data\n",
    "X_train = X_train.reshape(X_train.shape[0], -1)\n",
    "X_test = X_test.reshape(X_test.shape[0], -1)\n",
    "\n",
    "# Normalize the features\n",
    "X_train = X_train / 255.0\n",
    "X_test = X_test / 255.0"
   ]
  },
  {
   "cell_type": "code",
   "execution_count": 10,
   "id": "882ba9bf",
   "metadata": {},
   "outputs": [
    {
     "name": "stdout",
     "output_type": "stream",
     "text": [
      "Epoch 1/10\n",
      "13/13 [==============================] - 150s 11s/step - loss: 13.8753 - accuracy: 0.1725\n",
      "Epoch 2/10\n",
      "13/13 [==============================] - 170s 13s/step - loss: -53.9896 - accuracy: 0.0650\n",
      "Epoch 3/10\n",
      "13/13 [==============================] - 162s 12s/step - loss: -118.9670 - accuracy: 0.0650\n",
      "Epoch 4/10\n",
      "13/13 [==============================] - 144s 11s/step - loss: -185.7822 - accuracy: 0.0650\n",
      "Epoch 5/10\n",
      "13/13 [==============================] - 131s 10s/step - loss: -276.5431 - accuracy: 0.0625\n",
      "Epoch 6/10\n",
      "13/13 [==============================] - 133s 10s/step - loss: -413.0268 - accuracy: 0.0650\n",
      "Epoch 7/10\n",
      "13/13 [==============================] - 150s 12s/step - loss: -682.9765 - accuracy: 0.0650\n",
      "Epoch 8/10\n",
      "13/13 [==============================] - 516s 42s/step - loss: -1066.4291 - accuracy: 0.0650\n",
      "Epoch 9/10\n",
      "13/13 [==============================] - 159s 12s/step - loss: -1710.0389 - accuracy: 0.4250\n",
      "Epoch 10/10\n",
      "13/13 [==============================] - 150s 12s/step - loss: -2695.0366 - accuracy: 0.5925\n",
      "4/4 [==============================] - 8s 1s/step - loss: 1383.2662 - accuracy: 0.1100\n",
      "Test Loss: 1383.2662353515625\n",
      "Test Accuracy: 0.10999999940395355\n"
     ]
    }
   ],
   "source": [
    "# Train the model without Hyper Parameter Tunning\n",
    "\n",
    "# Reshape the input data\n",
    "X_train_reshaped = np.reshape(X_train, (-1, 1024, 1024, 3))\n",
    "X_test_reshaped = np.reshape(X_test, (-1, 1024, 1024, 3))\n",
    "\n",
    "# Build the ANN model\n",
    "model = keras.Sequential([\n",
    "    keras.layers.Dense(8, activation='relu', input_shape=(1024, 1024, 3)),\n",
    "    keras.layers.Flatten(),\n",
    "    keras.layers.Dense(2, activation='relu'),\n",
    "    keras.layers.Dense(1, activation='sigmoid')\n",
    "])\n",
    "\n",
    "# Compile the model\n",
    "model.compile(optimizer='adam', loss='binary_crossentropy', metrics=['accuracy'])\n",
    "\n",
    "# Train the model\n",
    "model.fit(X_train_reshaped, y_train, epochs=10, batch_size=32)\n",
    "\n",
    "# Evaluate the model on the test set\n",
    "loss, accuracy = model.evaluate(X_test_reshaped, y_test)\n",
    "print(\"Test Loss:\", loss)\n",
    "print(\"Test Accuracy:\", accuracy)\n"
   ]
  },
  {
   "cell_type": "code",
   "execution_count": 12,
   "id": "c27d5164",
   "metadata": {},
   "outputs": [
    {
     "name": "stdout",
     "output_type": "stream",
     "text": [
      "Best Hyperparameters:\n",
      "Epochs: 5\n",
      "Batch Size: 64\n",
      "Units: 4\n",
      "Accuracy: 0.6666666865348816\n",
      "1/1 [==============================] - 0s 104ms/step\n"
     ]
    }
   ],
   "source": [
    "# Train the model with Hyper Parameter Tunning\n",
    "\n",
    "# Reshape the input data\n",
    "X_train_reshaped = np.reshape(X_train, (-1, 1024, 1024, 3))\n",
    "X_test_reshaped = np.reshape(X_test, (-1, 1024, 1024, 3))\n",
    "\n",
    "# Split the data into training and validation sets\n",
    "#X_train, X_val, y_train, y_val = train_test_split(X_train_reshaped, y_train, test_size=0.2, random_state=42)\n",
    "\n",
    "# Define hyperparameters to tune\n",
    "epochs_list = [5, 10, 15]  # Different values for the number of epochs\n",
    "batch_sizes = [16, 32, 64]  # Different values for batch size\n",
    "dense_units = [4, 8, 12]  # Different values for units in dense layers\n",
    "\n",
    "results = []  # Store results for each combination of hyperparameters\n",
    "\n",
    "# Perform hyperparameter tuning\n",
    "for epochs in epochs_list:\n",
    "    for batch_size in batch_sizes:\n",
    "        for units in dense_units:\n",
    "            # Build the ANN model\n",
    "            model = keras.Sequential([\n",
    "                keras.layers.Dense(units, activation='relu', input_shape=(1024, 1024, 3)),\n",
    "                keras.layers.Flatten(),\n",
    "                keras.layers.Dense(2, activation='relu'),\n",
    "                keras.layers.Dense(1, activation='sigmoid')\n",
    "            ])\n",
    "\n",
    "            # Compile the model\n",
    "            model.compile(optimizer='adam', loss='binary_crossentropy', metrics=['accuracy'])\n",
    "\n",
    "            # Train the model\n",
    "            history = model.fit(X_train_reshaped, y_train, epochs=epochs, batch_size=batch_size, validation_data=(X_test_reshaped, y_test), verbose=0)\n",
    "            accuracy = history.history['val_accuracy'][-1]  # Get the final validation accuracy\n",
    "\n",
    "            # Store the hyperparameters and the corresponding accuracy\n",
    "            results.append({'epochs': epochs, 'batch_size': batch_size, 'units': units, 'accuracy': accuracy})\n",
    "\n",
    "# Find the best hyperparameters and accuracy\n",
    "best_result = max(results, key=lambda x: x['accuracy'])\n",
    "best_epochs = best_result['epochs']\n",
    "best_batch_size = best_result['batch_size']\n",
    "best_units = best_result['units']\n",
    "best_accuracy = best_result['accuracy']\n",
    "\n",
    "# Print the best hyperparameters and accuracy\n",
    "print(\"Best Hyperparameters:\")\n",
    "print(f\"Epochs: {best_epochs}\")\n",
    "print(f\"Batch Size: {best_batch_size}\")\n",
    "print(f\"Units: {best_units}\")\n",
    "print(f\"Accuracy: {best_accuracy}\")\n",
    "\n",
    "# Train the model with the best hyperparameters\n",
    "best_model = keras.Sequential([\n",
    "    keras.layers.Dense(best_units, activation='relu', input_shape=(1024, 1024, 3)),\n",
    "    keras.layers.Flatten(),\n",
    "    keras.layers.Dense(2, activation='relu'),\n",
    "    keras.layers.Dense(1, activation='sigmoid')\n",
    "])\n",
    "best_model.compile(optimizer='adam', loss='binary_crossentropy', metrics=['accuracy'])\n",
    "\n",
    "best_model.fit(X_train_reshaped, y_train, epochs=best_epochs, batch_size=best_batch_size, validation_data=(X_test_reshaped, y_test), verbose=0)\n",
    "\n",
    "# Perform predictions on the test set\n",
    "y_pred = best_model.predict(X_test_reshaped)\n",
    "y_pred = np.round(y_pred).flatten()\n"
   ]
  },
  {
   "cell_type": "code",
   "execution_count": 22,
   "id": "fcb827d3",
   "metadata": {},
   "outputs": [
    {
     "name": "stdout",
     "output_type": "stream",
     "text": [
      "Epoch Value -> Accuracy:\n",
      "5 -> 0.6667\n",
      "10 -> 0.3333\n",
      "15 -> 0.3333\n"
     ]
    }
   ],
   "source": [
    "# Print epoch value and accuracy\n",
    "print(\"Epoch Value -> Accuracy:\")\n",
    "for result in results:\n",
    "    if result['batch_size'] == best_batch_size and result['units'] == best_units:\n",
    "        epoch_value = result['epochs']\n",
    "        accuracy = result['accuracy']\n",
    "        print(f\"{epoch_value} -> {accuracy:.4f}\")\n"
   ]
  },
  {
   "cell_type": "code",
   "execution_count": 23,
   "id": "0667d06f",
   "metadata": {},
   "outputs": [
    {
     "data": {
      "image/png": "[encoded data removed]",
      "text/plain": [
       "<Figure size 640x480 with 1 Axes>"
      ]
     },
     "metadata": {},
     "output_type": "display_data"
    }
   ],
   "source": [
    "# Extract the accuracy values for the best batch size and units combination\n",
    "epoch_values = [result['epochs'] for result in results if result['batch_size'] == best_batch_size and result['units'] == best_units]\n",
    "accuracies = [result['accuracy'] for result in results if result['batch_size'] == best_batch_size and result['units'] == best_units]\n",
    "\n",
    "# Plot epoch value vs accuracy\n",
    "plt.plot(epoch_values, accuracies, 'o-')\n",
    "plt.xlabel('Epoch Value')\n",
    "plt.ylabel('Accuracy')\n",
    "plt.title('Accuracy vs Epoch Value')\n",
    "plt.grid(True)\n",
    "plt.show()\n"
   ]
  },
  {
   "cell_type": "code",
   "execution_count": 16,
   "id": "ed781e4b",
   "metadata": {},
   "outputs": [
    {
     "name": "stdout",
     "output_type": "stream",
     "text": [
      "Confusion Matrix:\n",
      "   0  1\n",
      "0  0  2\n",
      "1  0  1\n"
     ]
    }
   ],
   "source": [
    "# Compute the confusion matrix\n",
    "cm = confusion_matrix(y_test, y_pred)\n",
    "\n",
    "# Get the unique labels from y_test and D_pred\n",
    "labels = sorted(set(y_test).union(set(y_pred)))\n",
    "\n",
    "# Create a DataFrame for the confusion matrix\n",
    "df_cm = pd.DataFrame(cm, index=labels, columns=labels)\n",
    "\n",
    "# Print the confusion matrix in a table format\n",
    "print(\"Confusion Matrix:\")\n",
    "print(df_cm.to_string())"
   ]
  },
  {
   "cell_type": "code",
   "execution_count": null,
   "id": "1c8440df",
   "metadata": {},
   "outputs": [],
   "source": [
    "# Define the mapping dictionary\n",
    "label_mapping = {\n",
    "    0: \"No Diabetic Retinopathy\",\n",
    "    1: \"Early Stage\",\n",
    "    2: \"Intermediate Stage\",\n",
    "    3: \"Severe Retinopathy\",\n",
    "    4: \"Progressive Retinopathy\"\n",
    "}\n",
    "\n",
    "# Replace the values in the column with their corresponding labels\n",
    "Labels_Data['level'] = Labels_Data['level'].map(label_mapping)"
   ]
  },
  {
   "cell_type": "code",
   "execution_count": 14,
   "id": "297a4e00",
   "metadata": {},
   "outputs": [
    {
     "name": "stdout",
     "output_type": "stream",
     "text": [
      "Prediction Results vs Test Labels:\n",
      "\u001b[91mPredicted: 1.0, True Label: 0 <-- Mismatch\u001b[0m\n",
      "Predicted: 1.0, True Label: 1\n",
      "\u001b[91mPredicted: 1.0, True Label: 0 <-- Mismatch\u001b[0m\n"
     ]
    }
   ],
   "source": [
    "\n",
    "\n",
    "# 1) Print Prediction Results vs Test Labels\n",
    "print(\"Prediction Results vs Test Labels:\")\n",
    "for pred, true_label in zip(y_pred, y_test):\n",
    "    if pred != true_label:\n",
    "        print(f\"\\033[91mPredicted: {pred}, True Label: {true_label} <-- Mismatch\\033[0m\")\n",
    "    else:\n",
    "        print(f\"Predicted: {pred}, True Label: {true_label}\")\n"
   ]
  }
 ],
 "metadata": {
  "kernelspec": {
   "display_name": "Python 3 (ipykernel)",
   "language": "python",
   "name": "python3"
  },
  "language_info": {
   "codemirror_mode": {
    "name": "ipython",
    "version": 3
   },
   "file_extension": ".py",
   "mimetype": "text/x-python",
   "name": "python",
   "nbconvert_exporter": "python",
   "pygments_lexer": "ipython3",
   "version": "3.10.9"
  }
 },
 "nbformat": 4,
 "nbformat_minor": 5
}
